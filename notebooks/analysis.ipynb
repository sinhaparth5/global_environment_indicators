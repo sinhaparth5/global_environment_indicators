{
 "cells": [
  {
   "cell_type": "code",
   "execution_count": 1,
   "metadata": {},
   "outputs": [],
   "source": [
    "import sys\n",
    "sys.path.append('..')"
   ]
  },
  {
   "cell_type": "code",
   "execution_count": 20,
   "metadata": {},
   "outputs": [],
   "source": [
    "from pathlib import Path\n",
    "notebook_dir = Path().resolve()\n",
    "project_root = notebook_dir.parent\n",
    "sys.path.append(str(project_root))"
   ]
  },
  {
   "cell_type": "code",
   "execution_count": 2,
   "metadata": {},
   "outputs": [],
   "source": [
    "from src.data.data_loader import EnvironmentalDataLoader\n",
    "from src.models.climate_net import EnvironmentalNet\n",
    "from src.models.trainer import ModelTrainer\n",
    "from src.visualization.plotter import EnvironmentalPlotter\n",
    "from src.data.preprocessor import EnvironmentalDataPreprocessor"
   ]
  },
  {
   "cell_type": "code",
   "execution_count": 3,
   "metadata": {},
   "outputs": [
    {
     "ename": "NameError",
     "evalue": "name 'notebook_dir' is not defined",
     "output_type": "error",
     "traceback": [
      "\u001b[0;31m---------------------------------------------------------------------------\u001b[0m",
      "\u001b[0;31mNameError\u001b[0m                                 Traceback (most recent call last)",
      "Cell \u001b[0;32mIn[3], line 1\u001b[0m\n\u001b[0;32m----> 1\u001b[0m \u001b[38;5;28mprint\u001b[39m(\u001b[38;5;124m\"\u001b[39m\u001b[38;5;124mNotebook directory:\u001b[39m\u001b[38;5;124m\"\u001b[39m, \u001b[43mnotebook_dir\u001b[49m)\n\u001b[1;32m      2\u001b[0m \u001b[38;5;28mprint\u001b[39m(\u001b[38;5;124m\"\u001b[39m\u001b[38;5;124mProject root:\u001b[39m\u001b[38;5;124m\"\u001b[39m, project_root)\n",
      "\u001b[0;31mNameError\u001b[0m: name 'notebook_dir' is not defined"
     ]
    }
   ],
   "source": [
    "print(\"Notebook directory:\", notebook_dir)\n",
    "print(\"Project root:\", project_root)"
   ]
  },
  {
   "cell_type": "code",
   "execution_count": 4,
   "metadata": {},
   "outputs": [
    {
     "name": "stdout",
     "output_type": "stream",
     "text": [
      "Project root: /home/parth/Projects/global_environment_indicators\n",
      "Raw data path: /home/parth/Projects/global_environment_indicators/data/raw\n",
      "Preprocessor initialization failed: [Errno 2] No such file or directory: '/home/parth/Projects/global_environment_indicators/src/config.yaml'\n"
     ]
    },
    {
     "ename": "FileNotFoundError",
     "evalue": "[Errno 2] No such file or directory: '/home/parth/Projects/global_environment_indicators/src/config.yaml'",
     "output_type": "error",
     "traceback": [
      "\u001b[0;31m---------------------------------------------------------------------------\u001b[0m",
      "\u001b[0;31mFileNotFoundError\u001b[0m                         Traceback (most recent call last)",
      "Cell \u001b[0;32mIn[4], line 2\u001b[0m\n\u001b[1;32m      1\u001b[0m loader \u001b[38;5;241m=\u001b[39m EnvironmentalDataLoader()\n\u001b[0;32m----> 2\u001b[0m preprocessor \u001b[38;5;241m=\u001b[39m \u001b[43mEnvironmentalDataPreprocessor\u001b[49m\u001b[43m(\u001b[49m\u001b[43m)\u001b[49m\n",
      "File \u001b[0;32m~/Projects/global_environment_indicators/notebooks/../src/data/preprocessor.py:13\u001b[0m, in \u001b[0;36mEnvironmentalDataPreprocessor.__init__\u001b[0;34m(self, config_path)\u001b[0m\n\u001b[1;32m     10\u001b[0m \u001b[38;5;28;01mtry\u001b[39;00m:\n\u001b[1;32m     11\u001b[0m     \u001b[38;5;66;03m# Path configuration\u001b[39;00m\n\u001b[1;32m     12\u001b[0m     \u001b[38;5;28mself\u001b[39m\u001b[38;5;241m.\u001b[39mproject_root \u001b[38;5;241m=\u001b[39m Path(\u001b[38;5;18m__file__\u001b[39m)\u001b[38;5;241m.\u001b[39mresolve()\u001b[38;5;241m.\u001b[39mparent\u001b[38;5;241m.\u001b[39mparent\n\u001b[0;32m---> 13\u001b[0m     \u001b[38;5;28mself\u001b[39m\u001b[38;5;241m.\u001b[39mconfig \u001b[38;5;241m=\u001b[39m \u001b[38;5;28;43mself\u001b[39;49m\u001b[38;5;241;43m.\u001b[39;49m\u001b[43m_load_config\u001b[49m\u001b[43m(\u001b[49m\u001b[43mconfig_path\u001b[49m\u001b[43m)\u001b[49m\n\u001b[1;32m     14\u001b[0m     \u001b[38;5;28mself\u001b[39m\u001b[38;5;241m.\u001b[39mprocessed_path \u001b[38;5;241m=\u001b[39m \u001b[38;5;28mself\u001b[39m\u001b[38;5;241m.\u001b[39mproject_root \u001b[38;5;241m/\u001b[39m \u001b[38;5;28mself\u001b[39m\u001b[38;5;241m.\u001b[39mconfig[\u001b[38;5;124m'\u001b[39m\u001b[38;5;124mdata_paths\u001b[39m\u001b[38;5;124m'\u001b[39m][\u001b[38;5;124m'\u001b[39m\u001b[38;5;124mprocessed_data\u001b[39m\u001b[38;5;124m'\u001b[39m]\n\u001b[1;32m     15\u001b[0m     \u001b[38;5;28mself\u001b[39m\u001b[38;5;241m.\u001b[39mscalers \u001b[38;5;241m=\u001b[39m {}\n",
      "File \u001b[0;32m~/Projects/global_environment_indicators/notebooks/../src/data/preprocessor.py:27\u001b[0m, in \u001b[0;36mEnvironmentalDataPreprocessor._load_config\u001b[0;34m(self, config_path)\u001b[0m\n\u001b[1;32m     25\u001b[0m \u001b[38;5;250m\u001b[39m\u001b[38;5;124;03m\"\"\"Load configuration file\"\"\"\u001b[39;00m\n\u001b[1;32m     26\u001b[0m config_file \u001b[38;5;241m=\u001b[39m \u001b[38;5;28mself\u001b[39m\u001b[38;5;241m.\u001b[39mproject_root \u001b[38;5;241m/\u001b[39m config_path\n\u001b[0;32m---> 27\u001b[0m \u001b[38;5;28;01mwith\u001b[39;00m \u001b[38;5;28;43mopen\u001b[39;49m\u001b[43m(\u001b[49m\u001b[43mconfig_file\u001b[49m\u001b[43m,\u001b[49m\u001b[43m \u001b[49m\u001b[38;5;124;43m'\u001b[39;49m\u001b[38;5;124;43mr\u001b[39;49m\u001b[38;5;124;43m'\u001b[39;49m\u001b[43m)\u001b[49m \u001b[38;5;28;01mas\u001b[39;00m f:\n\u001b[1;32m     28\u001b[0m     \u001b[38;5;28;01mreturn\u001b[39;00m yaml\u001b[38;5;241m.\u001b[39msafe_load(f)\n",
      "\u001b[0;31mFileNotFoundError\u001b[0m: [Errno 2] No such file or directory: '/home/parth/Projects/global_environment_indicators/src/config.yaml'"
     ]
    }
   ],
   "source": [
    "loader = EnvironmentalDataLoader()\n",
    "preprocessor = EnvironmentalDataPreprocessor()"
   ]
  },
  {
   "cell_type": "code",
   "execution_count": 27,
   "metadata": {},
   "outputs": [],
   "source": [
    "from src.data.emission_preprocess import EmissionsPreprocessor\n",
    "emissions_preprocessor = EmissionsPreprocessor()"
   ]
  },
  {
   "cell_type": "code",
   "execution_count": null,
   "metadata": {},
   "outputs": [],
   "source": [
    "\n",
    "\n",
    "for filename, df in air_climate_data.items():\n",
    "    print(f\"\\nColumns in {filename}:\")\n",
    "    print(df.columns.tolist())"
   ]
  },
  {
   "cell_type": "code",
   "execution_count": null,
   "metadata": {},
   "outputs": [],
   "source": [
    "combined_emission, sectors_df = emissions_preprocessor.combine_emissions_data(air_climate_data)"
   ]
  },
  {
   "cell_type": "code",
   "execution_count": null,
   "metadata": {},
   "outputs": [],
   "source": [
    "\n",
    "\n",
    "\n",
    "analysis_ready_df = emissions_preprocessor.create_analysis_ready_dataset(combined_emission, sectors_df)\n",
    "\n",
    "# Basic data exploration\n",
    "print(\"\\nData shape:\", analysis_ready_df.shape)\n",
    "print(\"\\nColumns:\", analysis_ready_df.columns.tolist())\n",
    "print(\"\\nEmission types:\", analysis_ready_df['emission_type'].unique())\n",
    "print(\"\\nYear range:\", analysis_ready_df['year'].min(), \"-\", analysis_ready_df['year'].max())\n",
    "\n",
    "# Example visualization\n",
    "import matplotlib.pyplot as plt\n",
    "import seaborn as sns\n",
    "\n",
    "plt.figure(figsize=(12, 6))\n",
    "sns.lineplot(data=analysis_ready_df[analysis_ready_df['Country'] == 'World'],\n",
    "             x='year', y='emission_value', hue='emission_type')\n",
    "plt.title('Global Emissions Trends')\n",
    "plt.ylabel('Emissions (1000 tonnes)')\n",
    "plt.xticks(rotation=45)\n",
    "plt.show()"
   ]
  }
 ],
 "metadata": {
  "kernelspec": {
   "display_name": ".venv",
   "language": "python",
   "name": "python3"
  },
  "language_info": {
   "codemirror_mode": {
    "name": "ipython",
    "version": 3
   },
   "file_extension": ".py",
   "mimetype": "text/x-python",
   "name": "python",
   "nbconvert_exporter": "python",
   "pygments_lexer": "ipython3",
   "version": "3.13.0"
  }
 },
 "nbformat": 4,
 "nbformat_minor": 2
}
